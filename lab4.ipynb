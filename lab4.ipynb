{
 "cells": [
  {
   "cell_type": "code",
   "execution_count": 497,
   "metadata": {},
   "outputs": [],
   "source": [
    "import matplotlib.pyplot as plt\n",
    "import tensorflow.keras as keras\n",
    "from keras.preprocessing.image import ImageDataGenerator\n",
    "from keras.models import Sequential, Model\n",
    "from keras.layers import Conv2D, Conv2DTranspose, MaxPool2D, Flatten, Dense, Input, Reshape, LeakyReLU, BatchNormalization, UpSampling2D, Dropout, Activation\n",
    "from keras.optimizers import Adam\n",
    "from keras.callbacks import LambdaCallback\n",
    "import numpy as np"
   ]
  },
  {
   "cell_type": "code",
   "execution_count": 472,
   "metadata": {},
   "outputs": [],
   "source": [
    "from keras.preprocessing.image import ImageDataGenerator"
   ]
  },
  {
   "cell_type": "markdown",
   "metadata": {},
   "source": [
    "# Autoencoder"
   ]
  },
  {
   "cell_type": "code",
   "execution_count": 473,
   "metadata": {},
   "outputs": [],
   "source": [
    "BATCH_AE = 64\n",
    "EPOCHS_AE = 20"
   ]
  },
  {
   "cell_type": "code",
   "execution_count": 474,
   "metadata": {},
   "outputs": [],
   "source": [
    "src_path_train = \"data\\\\train\"\n",
    "\n",
    "train_datagen = ImageDataGenerator(\n",
    "        rescale=1 / 255.0,\n",
    "        rotation_range=20,\n",
    "        zoom_range=0.05,\n",
    "        width_shift_range=0.05,\n",
    "        height_shift_range=0.05,\n",
    "        shear_range=0.05,\n",
    "        horizontal_flip=True,\n",
    "        fill_mode=\"nearest\",\n",
    "        validation_split=0.10)"
   ]
  },
  {
   "cell_type": "code",
   "execution_count": 475,
   "metadata": {},
   "outputs": [
    {
     "name": "stdout",
     "output_type": "stream",
     "text": [
      "Found 22497 images belonging to 2 classes.\n",
      "Found 2498 images belonging to 2 classes.\n"
     ]
    }
   ],
   "source": [
    "train_generator = train_datagen.flow_from_directory(\n",
    "    directory=src_path_train,\n",
    "    target_size=(64, 64),\n",
    "    color_mode=\"rgb\",\n",
    "    batch_size=BATCH_AE,\n",
    "    subset='training',\n",
    "    shuffle=True,\n",
    "    seed=42,\n",
    "    class_mode='input'  # делает так, чтобы и x, и y были x\n",
    ")\n",
    "val_generator = train_datagen.flow_from_directory(\n",
    "    directory=src_path_train,\n",
    "    target_size=(64, 64),\n",
    "    color_mode=\"rgb\",\n",
    "    batch_size=BATCH_AE,\n",
    "    subset='validation',\n",
    "    shuffle=False,\n",
    "    seed=42,\n",
    "    class_mode='input'\n",
    ")"
   ]
  },
  {
   "cell_type": "code",
   "execution_count": 476,
   "metadata": {},
   "outputs": [
    {
     "name": "stdout",
     "output_type": "stream",
     "text": [
      "[name: \"/device:CPU:0\"\n",
      "device_type: \"CPU\"\n",
      "memory_limit: 268435456\n",
      "locality {\n",
      "}\n",
      "incarnation: 10824707098707015124\n",
      "xla_global_id: -1\n",
      "]\n"
     ]
    }
   ],
   "source": [
    "from tensorflow.python.client import device_lib\n",
    "print(device_lib.list_local_devices())"
   ]
  },
  {
   "cell_type": "code",
   "execution_count": 477,
   "metadata": {},
   "outputs": [],
   "source": [
    "a = next(iter(train_generator))"
   ]
  },
  {
   "cell_type": "markdown",
   "metadata": {},
   "source": [
    "# Построение модели"
   ]
  },
  {
   "cell_type": "code",
   "execution_count": 485,
   "metadata": {},
   "outputs": [
    {
     "name": "stdout",
     "output_type": "stream",
     "text": [
      "Model: \"sequential_204\"\n",
      "_________________________________________________________________\n",
      " Layer (type)                Output Shape              Param #   \n",
      "=================================================================\n",
      " sequential_202 (Sequential  (None, 2048)              8414240   \n",
      " )                                                               \n",
      "                                                                 \n",
      " sequential_203 (Sequential  (None, 64, 64, 3)         4224963   \n",
      " )                                                               \n",
      "                                                                 \n",
      "=================================================================\n",
      "Total params: 12639203 (48.21 MB)\n",
      "Trainable params: 12639203 (48.21 MB)\n",
      "Non-trainable params: 0 (0.00 Byte)\n",
      "_________________________________________________________________\n"
     ]
    }
   ],
   "source": [
    "# encoder = Sequential([\n",
    "#     Input(shape=(64, 64, 3)),\n",
    "#     Conv2D(32, (3, 3), activation='leaky_relu', padding='same'),\n",
    "#     MaxPool2D((2, 2), padding='same'),\n",
    "#     Conv2D(32, (3, 3), activation='leaky_relu', padding='same'),\n",
    "#     MaxPool2D((2, 2), padding='same'),\n",
    "#     Conv2D(32, (3, 3), activation='leaky_relu', padding='same'),\n",
    "#     Flatten(), \n",
    "#     Dense(1536, activation='leaky_relu')\n",
    "# ])\n",
    "\n",
    "# decoder = Sequential([\n",
    "#     Input(shape=(1536,)),\n",
    "#     Dense(2048, activation='leaky_relu'),\n",
    "#     Reshape((8, 8, 32)),\n",
    "#     Conv2DTranspose(32, (3, 3), strides=(2, 2), activation='leaky_relu', padding='same'),\n",
    "#     Conv2DTranspose(32, (3, 3), strides=(2, 2), activation='leaky_relu', padding='same'),\n",
    "#     Conv2DTranspose(32, (3, 3), strides=(2, 2), activation='leaky_relu', padding='same'),\n",
    "#     Conv2DTranspose(3, (3, 3), activation='sigmoid', padding='same')\n",
    "# ])\n",
    "\n",
    "\n",
    "# encoder = Sequential([\n",
    "#     Input(shape=(64, 64, 3)),\n",
    "#     Conv2D(32, (3, 3), activation='leaky_relu', padding='same'),\n",
    "#     MaxPool2D((2, 2), padding='same'),\n",
    "#     Conv2D(32, (3, 3), activation='leaky_relu', padding='same'),\n",
    "#     MaxPool2D((2, 2), padding='same'),\n",
    "#     Conv2D(32, (3, 3), activation='leaky_relu', padding='same'),\n",
    "#     MaxPool2D((2, 2), padding='same'),\n",
    "#     Flatten(),\n",
    "#     Dense(1024, activation='leaky_relu')\n",
    "# ])\n",
    "\n",
    "# decoder = Sequential([\n",
    "#     Input(shape=(1024,)),\n",
    "#     Dense(2048, activation='leaky_relu'),\n",
    "#     Reshape((8, 8, 32)),\n",
    "#     Conv2DTranspose(32, (3, 3), strides=(2, 2), activation='leaky_relu', padding='same'),\n",
    "#     Conv2DTranspose(32, (3, 3), strides=(2, 2), activation='leaky_relu', padding='same'),\n",
    "#     Conv2DTranspose(32, (3, 3), strides=(2, 2), activation='leaky_relu', padding='same'),\n",
    "#     Conv2DTranspose(3, (3, 3), activation='sigmoid', padding='same')\n",
    "# ])\n",
    "# autoencoder = Sequential([encoder, decoder])\n",
    "\n",
    "# autoencoder.compile(optimizer='adam', loss='binary_crossentropy')\n",
    "# autoencoder.build(input_shape=(None, 64,64,3))\n",
    "# autoencoder.summary()\n",
    "\n",
    "encoder = Sequential([\n",
    "    Input(shape=(64, 64, 3)),\n",
    "    Conv2D(16, (3, 3), activation='leaky_relu', padding='same'),\n",
    "    MaxPool2D((2, 2), padding='same'),\n",
    "    Conv2D(32, (3, 3), activation='leaky_relu', padding='same'),\n",
    "    MaxPool2D((2, 2), padding='same'),\n",
    "    Conv2D(64, (3, 3), activation='leaky_relu', padding='same'),\n",
    "    MaxPool2D((2, 2), padding='same'),\n",
    "    Flatten(),\n",
    "    Dense(2048, activation='leaky_relu'),\n",
    "])\n",
    "\n",
    "decoder = Sequential([\n",
    "    Input(shape=(2048,)),\n",
    "    Dense(2048, activation='leaky_relu'),\n",
    "    Reshape((8, 8, 32)),\n",
    "    Conv2DTranspose(32, (3, 3), strides=(2, 2), activation='leaky_relu', padding='same'),\n",
    "    Conv2DTranspose(32, (3, 3), strides=(2, 2), activation='leaky_relu', padding='same'),\n",
    "    Conv2DTranspose(32, (3, 3), strides=(2, 2), activation='leaky_relu', padding='same'),\n",
    "    Conv2DTranspose(3, (3, 3), activation='sigmoid', padding='same')\n",
    "])\n",
    "autoencoder = Sequential([encoder, decoder])\n",
    "\n",
    "autoencoder.compile(optimizer='adam', loss='binary_crossentropy')\n",
    "autoencoder.build(input_shape=(None, 64,64,3))\n",
    "autoencoder.summary()"
   ]
  },
  {
   "cell_type": "code",
   "execution_count": 520,
   "metadata": {},
   "outputs": [
    {
     "name": "stdout",
     "output_type": "stream",
     "text": [
      "Model: \"sequential_238\"\n",
      "_________________________________________________________________\n",
      " Layer (type)                Output Shape              Param #   \n",
      "=================================================================\n",
      " sequential_236 (Sequential  (None, 2048)              6312848   \n",
      " )                                                               \n",
      "                                                                 \n",
      " sequential_237 (Sequential  (None, 64, 64, 3)         4229523   \n",
      " )                                                               \n",
      "                                                                 \n",
      "=================================================================\n",
      "Total params: 10542371 (40.22 MB)\n",
      "Trainable params: 10541987 (40.21 MB)\n",
      "Non-trainable params: 384 (1.50 KB)\n",
      "_________________________________________________________________\n"
     ]
    }
   ],
   "source": [
    "base_size = 4\n",
    "\n",
    "encoder = Sequential([\n",
    "    Input(shape=(64, 64, 3)),\n",
    "    Conv2D(base_size, (3, 3), padding='same'),\n",
    "    BatchNormalization(axis=-1),\n",
    "    Activation('leaky_relu'),\n",
    "    MaxPool2D((2, 2), padding='same'),\n",
    "    Conv2D(2*base_size, (3, 3), padding='same'),\n",
    "    BatchNormalization(axis=-1),\n",
    "    Activation('leaky_relu'),\n",
    "    MaxPool2D((2, 2), padding='same'),\n",
    "    Conv2D(4*base_size, (3, 3), padding='same'),\n",
    "    BatchNormalization(axis=-1),\n",
    "    Activation('leaky_relu'),\n",
    "    MaxPool2D((2, 2), padding='same'),\n",
    "    Flatten(),\n",
    "    Dense(2048, activation='leaky_relu'),\n",
    "])\n",
    "\n",
    "decoder = Sequential([\n",
    "    Input(shape=(2048,)),\n",
    "    Dense(2048, activation='leaky_relu'),\n",
    "    Reshape((8, 8, 32)),\n",
    "    Conv2DTranspose(4*base_size, (3, 3), strides=(2, 2), padding='same'),\n",
    "    BatchNormalization(axis=-1),\n",
    "    Activation('leaky_relu'),\n",
    "    Conv2DTranspose(2*base_size, (3, 3), strides=(2, 2), padding='same'),\n",
    "    BatchNormalization(axis=-1),\n",
    "    Activation('leaky_relu'),\n",
    "    Conv2DTranspose(base_size, (3, 3), strides=(2, 2), padding='same'),\n",
    "    BatchNormalization(axis=-1),\n",
    "    Activation('leaky_relu'),\n",
    "    Conv2DTranspose(3, (3, 3), activation='sigmoid', padding='same')\n",
    "])\n",
    "autoencoder = Sequential([encoder, decoder])\n",
    "\n",
    "autoencoder.compile(optimizer='adam', loss='binary_crossentropy')\n",
    "autoencoder.build(input_shape=(None, 64,64,3))\n",
    "autoencoder.summary()"
   ]
  },
  {
   "cell_type": "code",
   "execution_count": 456,
   "metadata": {},
   "outputs": [
    {
     "name": "stdout",
     "output_type": "stream",
     "text": [
      "Model: \"autoencoder\"\n",
      "_________________________________________________________________\n",
      " Layer (type)                Output Shape              Param #   \n",
      "=================================================================\n",
      " input_206 (InputLayer)      [(None, 64, 64, 3)]       0         \n",
      "                                                                 \n",
      " encoder (Functional)        (None, 2048)              8501952   \n",
      "                                                                 \n",
      " decoder (Functional)        (None, 64, 64, 3)         4322115   \n",
      "                                                                 \n",
      "=================================================================\n",
      "Total params: 12824067 (48.92 MB)\n",
      "Trainable params: 12823523 (48.92 MB)\n",
      "Non-trainable params: 544 (2.12 KB)\n",
      "_________________________________________________________________\n"
     ]
    }
   ],
   "source": [
    "def basic_block(x, inp_filter, out_filter):\n",
    "    x = Conv2D(inp_filter, (3, 3), activation='relu', padding='same')(x)\n",
    "    x = BatchNormalization(axis=-1)(x)\n",
    "    x = Conv2D(out_filter, (3, 3), activation='relu', padding='same')(x)\n",
    "    x = MaxPool2D((2, 2), padding='same')(x)\n",
    "    return x\n",
    "\n",
    "def basic_block_trasnpose(y, inp_filter, out_filter):\n",
    "    y = Conv2DTranspose(inp_filter, (3, 3), strides=(2, 2), activation='relu', padding='same')(y)\n",
    "    y = BatchNormalization(axis=-1)(y)\n",
    "    y = Conv2DTranspose(out_filter, (3, 3), strides=(1, 1), activation='relu', padding='same')(y)\n",
    "    return y\n",
    "\n",
    "def build_encoder(input_shape=(64, 64, 3)):\n",
    "    input_img = Input(shape=input_shape)\n",
    "    x = basic_block(input_img, 16, 32)\n",
    "    x = basic_block(x, 32, 64)\n",
    "    x = basic_block(x, 64, 64)\n",
    "    x = Conv2D(64, (1,1), padding='same')(x)\n",
    "    x = Flatten()(x)\n",
    "    encoded = Dense(2048, activation='relu')(x)\n",
    "    encoder_model = Model(input_img, encoded, name='encoder')\n",
    "    return encoder_model\n",
    "\n",
    "def build_decoder(encoded_shape=(2048,)):\n",
    "    input_encoded = Input(shape=encoded_shape)\n",
    "    y = Dense(2048, activation='relu')(input_encoded)\n",
    "    y = Reshape((8, 8, 32))(y)\n",
    "    y = basic_block_trasnpose(y, 64, 64)\n",
    "    y = basic_block_trasnpose(y, 64, 32)\n",
    "    y = basic_block_trasnpose(y, 32, 16)\n",
    "    decoded = Conv2DTranspose(3, (3, 3), activation='sigmoid', padding='same')(y)    \n",
    "    decoder_model = Model(input_encoded, decoded, name='decoder')\n",
    "    return decoder_model\n",
    "\n",
    "# Build encoder and decoder models\n",
    "encoder = build_encoder()\n",
    "decoder = build_decoder()\n",
    "\n",
    "# Connect encoder and decoder to form the autoencoder\n",
    "autoencoder_input = Input(shape=(64, 64, 3))\n",
    "encoded_img = encoder(autoencoder_input)\n",
    "decoded_img = decoder(encoded_img)\n",
    "autoencoder = Model(autoencoder_input, decoded_img, name='autoencoder')\n",
    "opt = Adam(learning_rate=1e-2)\n",
    "\n",
    "# Compile and summarize the autoencoder\n",
    "autoencoder.compile(optimizer=opt, loss='binary_crossentropy')\n",
    "autoencoder.build(input_shape=(None, 64, 64, 3))\n",
    "autoencoder.summary()\n"
   ]
  },
  {
   "cell_type": "code",
   "execution_count": 453,
   "metadata": {},
   "outputs": [],
   "source": [
    "#encoder(a[0]).shape\n",
    "#decoder(encoded).shape\n",
    "# autoencoder(image) # batch, width, heigth, channels"
   ]
  },
  {
   "cell_type": "code",
   "execution_count": 521,
   "metadata": {},
   "outputs": [],
   "source": [
    "save_weights_epochs = [1, 2, 4, 8, 16]\n",
    "WeightsSaver = lambda model, name, eps: LambdaCallback(\n",
    "    on_epoch_end=lambda epoch, _: model.save_weights('{}_{}.h5'.format(name, epoch + 1)) \\\n",
    "        if epoch + 1 in eps else None)"
   ]
  },
  {
   "cell_type": "code",
   "execution_count": 522,
   "metadata": {},
   "outputs": [
    {
     "data": {
      "image/png": "[encoded data removed]",
      "text/plain": [
       "<Figure size 864x576 with 2 Axes>"
      ]
     },
     "metadata": {
      "needs_background": "light"
     },
     "output_type": "display_data"
    },
    {
     "name": "stdout",
     "output_type": "stream",
     "text": [
      "Loss\n",
      "\ttraining         \t (min:    0.572, max:    0.595, cur:    0.572)\n",
      "\tvalidation       \t (min:    0.568, max:    0.583, cur:    0.568)\n",
      "352/352 [==============================] - 171s 485ms/step - loss: 0.5718 - val_loss: 0.5684\n",
      "Epoch 3/20\n",
      "263/352 [=====================>........] - ETA: 42s - loss: 0.5669"
     ]
    }
   ],
   "source": [
    "from keras.callbacks import LambdaCallback\n",
    "from livelossplot import PlotLossesKeras\n",
    "\n",
    "history = autoencoder.fit(\n",
    "    train_generator,\n",
    "    epochs=EPOCHS_AE,\n",
    "    validation_data=val_generator,\n",
    "    callbacks=[PlotLossesKeras(), WeightsSaver(\n",
    "                    autoencoder, \"autoencoder\", save_weights_epochs)]\n",
    ")"
   ]
  },
  {
   "cell_type": "code",
   "execution_count": 510,
   "metadata": {},
   "outputs": [],
   "source": [
    "example = a[0][9,:,:,:]"
   ]
  },
  {
   "cell_type": "code",
   "execution_count": 511,
   "metadata": {},
   "outputs": [
    {
     "data": {
      "text/plain": [
       "<matplotlib.image.AxesImage at 0x1808bcbd820>"
      ]
     },
     "execution_count": 511,
     "metadata": {},
     "output_type": "execute_result"
    },
    {
     "data": {
      "image/png": "[encoded data removed]",
      "text/plain": [
       "<Figure size 432x288 with 1 Axes>"
      ]
     },
     "metadata": {
      "needs_background": "light"
     },
     "output_type": "display_data"
    }
   ],
   "source": [
    "plt.imshow(example)"
   ]
  },
  {
   "cell_type": "code",
   "execution_count": 512,
   "metadata": {},
   "outputs": [],
   "source": [
    "output = autoencoder(np.array([example]))"
   ]
  },
  {
   "cell_type": "code",
   "execution_count": 513,
   "metadata": {},
   "outputs": [
    {
     "data": {
      "text/plain": [
       "<matplotlib.image.AxesImage at 0x1808bd52dc0>"
      ]
     },
     "execution_count": 513,
     "metadata": {},
     "output_type": "execute_result"
    },
    {
     "data": {
      "image/png": "[encoded data removed]",
      "text/plain": [
       "<Figure size 432x288 with 1 Axes>"
      ]
     },
     "metadata": {
      "needs_background": "light"
     },
     "output_type": "display_data"
    }
   ],
   "source": [
    "plt.imshow(output[0,:,:,:])"
   ]
  },
  {
   "cell_type": "markdown",
   "metadata": {},
   "source": [
    "# Классификатор"
   ]
  },
  {
   "cell_type": "markdown",
   "metadata": {},
   "source": [
    "Выгружаю данные для обучения классификатора(надо чтоб X и y теперь были разные)"
   ]
  },
  {
   "cell_type": "code",
   "execution_count": 492,
   "metadata": {},
   "outputs": [
    {
     "name": "stdout",
     "output_type": "stream",
     "text": [
      "Found 22497 images belonging to 2 classes.\n",
      "Found 2498 images belonging to 2 classes.\n"
     ]
    }
   ],
   "source": [
    "train_generator_class = train_datagen.flow_from_directory(\n",
    "    directory=src_path_train,\n",
    "    target_size=(64, 64),\n",
    "    color_mode=\"rgb\",\n",
    "    batch_size=BATCH_AE,\n",
    "    subset='training',\n",
    "    shuffle=True,\n",
    "    seed=42,\n",
    "    class_mode='binary' \n",
    ")\n",
    "val_generator_class = train_datagen.flow_from_directory(\n",
    "    directory=src_path_train,\n",
    "    target_size=(64, 64),\n",
    "    color_mode=\"rgb\",\n",
    "    batch_size=BATCH_AE,\n",
    "    subset='validation',\n",
    "    shuffle=False,\n",
    "    seed=42,\n",
    "    class_mode='binary'\n",
    ")"
   ]
  },
  {
   "cell_type": "code",
   "execution_count": 493,
   "metadata": {},
   "outputs": [
    {
     "data": {
      "text/plain": [
       "(array([[[[1.23417385e-01, 1.71400592e-01, 7.80812204e-02],\n",
       "          [1.03447378e-01, 1.71737373e-01, 3.38053517e-02],\n",
       "          [5.94998412e-02, 1.22808531e-01, 1.34436963e-02],\n",
       "          ...,\n",
       "          [4.81777966e-01, 4.69490021e-01, 4.07128274e-01],\n",
       "          [4.89473104e-01, 4.57947254e-01, 3.90455395e-01],\n",
       "          [4.97168303e-01, 4.77419198e-01, 3.94628465e-01]],\n",
       " \n",
       "         [[1.18269399e-01, 1.63678601e-01, 8.45162123e-02],\n",
       "          [1.18891351e-01, 1.76885352e-01, 5.56843095e-02],\n",
       "          [7.49438107e-02, 1.51122466e-01, 7.00870901e-03],\n",
       "          ...,\n",
       "          [5.03815174e-01, 5.35025001e-01, 4.25646961e-01],\n",
       "          [5.11510313e-01, 6.01716578e-01, 4.61557806e-01],\n",
       "          [5.14010847e-01, 6.51005983e-01, 4.88637716e-01]],\n",
       " \n",
       "         [[1.17047980e-01, 1.59279108e-01, 9.18573216e-02],\n",
       "          [1.27770588e-01, 1.77930400e-01, 7.26397187e-02],\n",
       "          [9.03877765e-02, 1.67384163e-01, 1.53042488e-02],\n",
       "          ...,\n",
       "          [4.98501569e-01, 6.34388924e-01, 4.81990874e-01],\n",
       "          [4.80546147e-01, 6.15150988e-01, 4.74295706e-01],\n",
       "          [4.62645859e-01, 5.95968187e-01, 4.66578454e-01]],\n",
       " \n",
       "         ...,\n",
       " \n",
       "         [[3.28837991e-01, 3.59654009e-01, 2.99708784e-01],\n",
       "          [2.58298814e-01, 3.08352798e-01, 2.41994932e-01],\n",
       "          [2.45135829e-01, 2.94895440e-01, 2.22124934e-01],\n",
       "          ...,\n",
       "          [4.23919827e-01, 3.93221557e-01, 3.38674486e-01],\n",
       "          [4.99978274e-01, 4.99938756e-01, 4.62681890e-01],\n",
       "          [4.28094268e-01, 4.53713685e-01, 4.32015836e-01]],\n",
       " \n",
       "         [[2.36273393e-01, 2.84925193e-01, 2.06615672e-01],\n",
       "          [2.26013154e-01, 2.73382425e-01, 1.88660249e-01],\n",
       "          [2.54635513e-01, 2.98778147e-01, 2.17363954e-01],\n",
       "          ...,\n",
       "          [3.82735908e-01, 3.58472615e-01, 2.92342603e-01],\n",
       "          [4.85821337e-01, 4.60041851e-01, 4.21497941e-01],\n",
       "          [4.98879135e-01, 5.34794509e-01, 5.02800703e-01]],\n",
       " \n",
       "         [[2.90085226e-01, 3.30904454e-01, 2.55029291e-01],\n",
       "          [3.31126183e-01, 3.68097812e-01, 2.98635304e-01],\n",
       "          [3.38892579e-01, 3.81420285e-01, 3.12583566e-01],\n",
       "          ...,\n",
       "          [3.22688609e-01, 3.08063537e-01, 2.35333294e-01],\n",
       "          [4.58745450e-01, 4.22605693e-01, 3.77853304e-01],\n",
       "          [5.11949599e-01, 5.33676088e-01, 4.97507483e-01]]],\n",
       " \n",
       " \n",
       "        [[[9.68960449e-02, 3.71405870e-01, 7.08660781e-01],\n",
       "          [7.18490034e-02, 3.46358836e-01, 6.83613777e-01],\n",
       "          [8.29752088e-02, 3.57485026e-01, 6.94739938e-01],\n",
       "          ...,\n",
       "          [1.72168493e-01, 4.50599879e-01, 7.56482303e-01],\n",
       "          [1.68247223e-01, 4.46678609e-01, 7.52560973e-01],\n",
       "          [1.64325953e-01, 4.42757338e-01, 7.48639703e-01]],\n",
       " \n",
       "         [[9.93617922e-02, 3.76470625e-01, 7.13075817e-01],\n",
       "          [7.74889290e-02, 3.51998746e-01, 6.89253688e-01],\n",
       "          [7.91266784e-02, 3.53636503e-01, 6.90891445e-01],\n",
       "          ...,\n",
       "          [1.61269858e-01, 4.39701229e-01, 7.45583594e-01],\n",
       "          [1.63074821e-01, 4.39215720e-01, 7.43952811e-01],\n",
       "          [1.65689006e-01, 4.39215720e-01, 7.42645741e-01]],\n",
       " \n",
       "         [[9.42304283e-02, 3.76470625e-01, 7.11792946e-01],\n",
       "          [8.77516642e-02, 3.62261474e-01, 6.99516416e-01],\n",
       "          [7.52781481e-02, 3.49787980e-01, 6.87042892e-01],\n",
       "          ...,\n",
       "          [1.67726398e-01, 4.39215720e-01, 7.41627038e-01],\n",
       "          [1.65201217e-01, 4.31506664e-01, 7.29184687e-01],\n",
       "          [1.59972861e-01, 4.19742823e-01, 7.10885346e-01]],\n",
       " \n",
       "         ...,\n",
       " \n",
       "         [[3.09805688e-03, 3.92156886e-03, 9.29417089e-03],\n",
       "          [1.79096544e-03, 3.92156886e-03, 5.37289632e-03],\n",
       "          [4.83873999e-04, 3.92156886e-03, 1.45162200e-03],\n",
       "          ...,\n",
       "          [4.88567084e-01, 5.00331819e-01, 4.33665127e-01],\n",
       "          [5.03401995e-01, 5.15166700e-01, 4.48500067e-01],\n",
       "          [5.05882382e-01, 5.17647088e-01, 4.50980425e-01]],\n",
       " \n",
       "         [[5.34823805e-04, 3.38674500e-03, 0.00000000e+00],\n",
       "          [1.84191519e-03, 2.07965355e-03, 0.00000000e+00],\n",
       "          [3.14900652e-03, 7.72562227e-04, 0.00000000e+00],\n",
       "          ...,\n",
       "          [4.83435720e-01, 4.95200425e-01, 4.28533763e-01],\n",
       "          [4.98270631e-01, 5.10035336e-01, 4.43368673e-01],\n",
       "          [5.05882382e-01, 5.17647088e-01, 4.50980425e-01]],\n",
       " \n",
       "         [[5.39838290e-03, 2.46135634e-04, 7.38406903e-04],\n",
       "          [1.32409306e-02, 1.55322708e-03, 4.65968112e-03],\n",
       "          [2.10834797e-02, 2.86031864e-03, 8.58095568e-03],\n",
       "          ...,\n",
       "          [4.78304356e-01, 4.90069062e-01, 4.23402399e-01],\n",
       "          [4.93139297e-01, 5.04903972e-01, 4.38237339e-01],\n",
       "          [5.05882382e-01, 5.17647088e-01, 4.50980425e-01]]],\n",
       " \n",
       " \n",
       "        [[[5.52941203e-01, 6.19607866e-01, 5.96078455e-01],\n",
       "          [5.56930244e-01, 6.23596907e-01, 6.00067496e-01],\n",
       "          [5.65744221e-01, 6.32410884e-01, 6.08881474e-01],\n",
       "          ...,\n",
       "          [5.63281298e-01, 6.67026699e-01, 7.03033149e-01],\n",
       "          [5.64705908e-01, 6.70588255e-01, 7.05882370e-01],\n",
       "          [5.64705908e-01, 6.70588255e-01, 7.05882370e-01]],\n",
       " \n",
       "         [[5.52941203e-01, 6.19607866e-01, 5.96078455e-01],\n",
       "          [5.53958654e-01, 6.20625317e-01, 5.97095907e-01],\n",
       "          [5.64753652e-01, 6.31420314e-01, 6.07890904e-01],\n",
       "          ...,\n",
       "          [5.64705908e-01, 6.70588255e-01, 7.05882370e-01],\n",
       "          [5.64705908e-01, 6.70588255e-01, 7.05882370e-01],\n",
       "          [5.64705908e-01, 6.70588255e-01, 7.05882370e-01]],\n",
       " \n",
       "         [[5.52941203e-01, 6.19607866e-01, 5.96078455e-01],\n",
       "          [5.52941203e-01, 6.19607866e-01, 5.96078455e-01],\n",
       "          [5.61877668e-01, 6.28544331e-01, 6.05014920e-01],\n",
       "          ...,\n",
       "          [5.64705908e-01, 6.70588255e-01, 7.05882370e-01],\n",
       "          [5.64705908e-01, 6.70588255e-01, 7.05882370e-01],\n",
       "          [5.66451669e-01, 6.69715405e-01, 7.05882370e-01]],\n",
       " \n",
       "         ...,\n",
       " \n",
       "         [[5.01960814e-01, 5.05882382e-01, 4.74509835e-01],\n",
       "          [5.01960814e-01, 5.05882382e-01, 4.74509835e-01],\n",
       "          [5.01960814e-01, 5.05882382e-01, 4.74509835e-01],\n",
       "          ...,\n",
       "          [5.79973459e-01, 5.44679344e-01, 5.25071502e-01],\n",
       "          [5.89800060e-01, 5.54505944e-01, 5.34898102e-01],\n",
       "          [5.92156887e-01, 5.56862772e-01, 5.37254930e-01]],\n",
       " \n",
       "         [[5.01960814e-01, 5.05882382e-01, 4.74509835e-01],\n",
       "          [5.01960814e-01, 5.05882382e-01, 4.74509835e-01],\n",
       "          [5.01960814e-01, 5.05882382e-01, 4.74509835e-01],\n",
       "          ...,\n",
       "          [5.76011360e-01, 5.40717244e-01, 5.21109402e-01],\n",
       "          [5.88809550e-01, 5.53515434e-01, 5.33907592e-01],\n",
       "          [5.92156887e-01, 5.56862772e-01, 5.37254930e-01]],\n",
       " \n",
       "         [[5.01960814e-01, 5.05882382e-01, 4.74509835e-01],\n",
       "          [5.01960814e-01, 5.05882382e-01, 4.74509835e-01],\n",
       "          [5.01960814e-01, 5.05882382e-01, 4.74509835e-01],\n",
       "          ...,\n",
       "          [5.73673606e-01, 5.38379490e-01, 5.18771648e-01],\n",
       "          [5.86570024e-01, 5.51275909e-01, 5.31668067e-01],\n",
       "          [5.91449201e-01, 5.56155086e-01, 5.36547244e-01]]],\n",
       " \n",
       " \n",
       "        ...,\n",
       " \n",
       " \n",
       "        [[[4.73546177e-01, 4.34330463e-01, 4.38252032e-01],\n",
       "          [4.61987674e-01, 4.22771960e-01, 4.26693529e-01],\n",
       "          [4.50429201e-01, 4.11213487e-01, 4.15135056e-01],\n",
       "          ...,\n",
       "          [8.16202998e-01, 8.20124567e-01, 7.49536335e-01],\n",
       "          [7.96513081e-01, 8.00434649e-01, 7.29846418e-01],\n",
       "          [7.84675062e-01, 7.88596630e-01, 7.18008399e-01]],\n",
       " \n",
       "         [[5.90632796e-01, 5.51417112e-01, 5.55338681e-01],\n",
       "          [5.75837970e-01, 5.36622286e-01, 5.40543854e-01],\n",
       "          [5.61043084e-01, 5.21827400e-01, 5.25748968e-01],\n",
       "          ...,\n",
       "          [8.13999772e-01, 8.17921340e-01, 7.47333109e-01],\n",
       "          [7.94309855e-01, 7.98231423e-01, 7.27643192e-01],\n",
       "          [7.87319005e-01, 7.91240573e-01, 7.20652282e-01]],\n",
       " \n",
       "         [[5.49565554e-01, 5.10349870e-01, 5.14271438e-01],\n",
       "          [5.58812380e-01, 5.19596696e-01, 5.23518264e-01],\n",
       "          [5.68059146e-01, 5.28843462e-01, 5.32765031e-01],\n",
       "          ...,\n",
       "          [8.16033661e-01, 8.19955230e-01, 7.49366999e-01],\n",
       "          [8.00083935e-01, 8.04005504e-01, 7.33417273e-01],\n",
       "          [7.96814919e-01, 8.00736487e-01, 7.30148256e-01]],\n",
       " \n",
       "         ...,\n",
       " \n",
       "         [[9.30842221e-01, 9.38685358e-01, 9.34763789e-01],\n",
       "          [9.37674224e-01, 9.45517361e-01, 9.41595793e-01],\n",
       "          [9.65675771e-01, 9.73518908e-01, 9.69597340e-01],\n",
       "          ...,\n",
       "          [9.51112568e-01, 9.81120288e-01, 9.56226051e-01],\n",
       "          [9.23858225e-01, 9.52941239e-01, 9.27122295e-01],\n",
       "          [9.24782872e-01, 9.52941239e-01, 9.26197588e-01]],\n",
       " \n",
       "         [[9.28198278e-01, 9.36041415e-01, 9.32119846e-01],\n",
       "          [9.39436853e-01, 9.47279990e-01, 9.43358421e-01],\n",
       "          [9.69201028e-01, 9.77044165e-01, 9.73122597e-01],\n",
       "          ...,\n",
       "          [9.23262775e-01, 9.58556890e-01, 9.38949049e-01],\n",
       "          [9.16982293e-01, 9.52276409e-01, 9.32668567e-01],\n",
       "          [9.17444706e-01, 9.52738822e-01, 9.33130980e-01]],\n",
       " \n",
       "         [[9.25554454e-01, 9.33397591e-01, 9.29476023e-01],\n",
       "          [9.41222310e-01, 9.49065447e-01, 9.45143878e-01],\n",
       "          [9.72460508e-01, 9.80303645e-01, 9.76382077e-01],\n",
       "          ...,\n",
       "          [8.99648845e-01, 9.34942961e-01, 9.15335119e-01],\n",
       "          [9.13212001e-01, 9.48506117e-01, 9.28898275e-01],\n",
       "          [9.13674295e-01, 9.48968470e-01, 9.29360569e-01]]],\n",
       " \n",
       " \n",
       "        [[[1.04928009e-01, 9.27394181e-02, 2.16207132e-02],\n",
       "          [1.10819913e-01, 9.79743078e-02, 3.20411660e-02],\n",
       "          [1.36506364e-01, 1.22603811e-01, 6.74561784e-02],\n",
       "          ...,\n",
       "          [1.77846029e-01, 1.96852669e-01, 1.73523664e-01],\n",
       "          [1.75793111e-01, 1.81069657e-01, 1.57540247e-01],\n",
       "          [2.17804417e-01, 2.14837015e-01, 2.05085546e-01]],\n",
       " \n",
       "         [[2.30601475e-01, 2.01452881e-01, 1.54757276e-01],\n",
       "          [2.08949625e-01, 1.81622013e-01, 1.33322746e-01],\n",
       "          [1.84849322e-01, 1.60240829e-01, 1.15166187e-01],\n",
       "          ...,\n",
       "          [1.69314563e-01, 1.87548190e-01, 1.64018780e-01],\n",
       "          [1.78933159e-01, 1.82444289e-01, 1.59735724e-01],\n",
       "          [2.24331886e-01, 2.20075950e-01, 2.12500319e-01]],\n",
       " \n",
       "         [[2.09044278e-01, 1.81127578e-01, 1.10343374e-01],\n",
       "          [2.08075002e-01, 1.79294467e-01, 1.16399996e-01],\n",
       "          [1.84358820e-01, 1.58896059e-01, 1.08208507e-01],\n",
       "          ...,\n",
       "          [1.70402482e-01, 1.86460286e-01, 1.62930876e-01],\n",
       "          [1.85460627e-01, 1.87883854e-01, 1.67351127e-01],\n",
       "          [2.30859369e-01, 2.23883659e-01, 2.18483835e-01]],\n",
       " \n",
       "         ...,\n",
       " \n",
       "         [[1.00000000e+00, 8.36038709e-01, 5.69113970e-01],\n",
       "          [9.73146081e-01, 7.46889055e-01, 5.18841028e-01],\n",
       "          [9.64438438e-01, 7.07274854e-01, 4.99498516e-01],\n",
       "          ...,\n",
       "          [3.48026067e-01, 3.32438141e-01, 2.93926060e-01],\n",
       "          [2.99784839e-01, 2.93111056e-01, 2.55647719e-01],\n",
       "          [2.51543611e-01, 2.53783941e-01, 2.17369333e-01]],\n",
       " \n",
       "         [[1.00000000e+00, 8.33318889e-01, 5.70201874e-01],\n",
       "          [9.66074646e-01, 7.25674748e-01, 5.04698157e-01],\n",
       "          [9.68790174e-01, 7.16522098e-01, 5.07657886e-01],\n",
       "          ...,\n",
       "          [4.03565049e-01, 3.80424559e-01, 3.38875383e-01],\n",
       "          [4.55476791e-01, 4.21849072e-01, 3.79775554e-01],\n",
       "          [5.07388592e-01, 4.63273615e-01, 4.20675725e-01]],\n",
       " \n",
       "         [[1.00000000e+00, 8.30599129e-01, 5.71289837e-01],\n",
       "          [9.59003210e-01, 7.04460442e-01, 4.90555316e-01],\n",
       "          [9.73141789e-01, 7.25769341e-01, 5.15817225e-01],\n",
       "          ...,\n",
       "          [1.72549024e-01, 1.77272424e-01, 1.56862751e-01],\n",
       "          [1.72549024e-01, 1.83564752e-01, 1.56862751e-01],\n",
       "          [1.72549024e-01, 1.89857095e-01, 1.56862751e-01]]],\n",
       " \n",
       " \n",
       "        [[[3.92156886e-03, 4.98039246e-01, 3.92156886e-03],\n",
       "          [3.92156886e-03, 4.98039246e-01, 3.92156886e-03],\n",
       "          [3.92156886e-03, 4.98039246e-01, 3.92156886e-03],\n",
       "          ...,\n",
       "          [3.92156886e-03, 4.98039246e-01, 3.92156886e-03],\n",
       "          [3.92156886e-03, 4.98039246e-01, 3.92156886e-03],\n",
       "          [3.92156886e-03, 4.98039246e-01, 3.92156886e-03]],\n",
       " \n",
       "         [[3.92156886e-03, 4.98039246e-01, 3.92156886e-03],\n",
       "          [3.92156886e-03, 4.98039246e-01, 3.92156886e-03],\n",
       "          [3.92156886e-03, 4.98039246e-01, 3.92156886e-03],\n",
       "          ...,\n",
       "          [3.92156886e-03, 4.98039246e-01, 3.92156886e-03],\n",
       "          [3.92156886e-03, 4.98039246e-01, 3.92156886e-03],\n",
       "          [3.92156886e-03, 4.98039246e-01, 3.92156886e-03]],\n",
       " \n",
       "         [[3.92156886e-03, 4.98039246e-01, 3.92156886e-03],\n",
       "          [3.92156886e-03, 4.98039246e-01, 3.92156886e-03],\n",
       "          [3.92156886e-03, 4.98039246e-01, 3.92156886e-03],\n",
       "          ...,\n",
       "          [3.92156886e-03, 4.98039246e-01, 3.92156886e-03],\n",
       "          [3.92156886e-03, 4.98039246e-01, 3.92156886e-03],\n",
       "          [3.92156886e-03, 4.98039246e-01, 3.92156886e-03]],\n",
       " \n",
       "         ...,\n",
       " \n",
       "         [[3.92156886e-03, 4.98039246e-01, 3.92156886e-03],\n",
       "          [3.92156886e-03, 4.98039246e-01, 3.92156886e-03],\n",
       "          [3.92156886e-03, 4.98039246e-01, 3.92156886e-03],\n",
       "          ...,\n",
       "          [3.92156886e-03, 4.98039246e-01, 3.92156886e-03],\n",
       "          [3.92156886e-03, 4.98039246e-01, 3.92156886e-03],\n",
       "          [3.92156886e-03, 4.98039246e-01, 3.92156886e-03]],\n",
       " \n",
       "         [[3.92156886e-03, 4.98039246e-01, 3.92156886e-03],\n",
       "          [3.92156886e-03, 4.98039246e-01, 3.92156886e-03],\n",
       "          [3.92156886e-03, 4.98039246e-01, 3.92156886e-03],\n",
       "          ...,\n",
       "          [3.92156886e-03, 4.98039246e-01, 3.92156886e-03],\n",
       "          [3.92156886e-03, 4.98039246e-01, 3.92156886e-03],\n",
       "          [3.92156886e-03, 4.98039246e-01, 3.92156886e-03]],\n",
       " \n",
       "         [[3.92156886e-03, 4.98039246e-01, 3.92156886e-03],\n",
       "          [3.92156886e-03, 4.98039246e-01, 3.92156886e-03],\n",
       "          [3.92156886e-03, 4.98039246e-01, 3.92156886e-03],\n",
       "          ...,\n",
       "          [3.92156886e-03, 4.98039246e-01, 3.92156886e-03],\n",
       "          [3.92156886e-03, 4.98039246e-01, 3.92156886e-03],\n",
       "          [3.92156886e-03, 4.98039246e-01, 3.92156886e-03]]]],\n",
       "       dtype=float32),\n",
       " array([1., 1., 0., 1., 1., 1., 1., 0., 0., 1., 0., 0., 1., 0., 1., 0., 1.,\n",
       "        1., 0., 0., 0., 0., 1., 1., 0., 1., 0., 1., 1., 0., 0., 0., 1., 0.,\n",
       "        0., 1., 1., 0., 0., 0., 1., 1., 1., 1., 1., 1., 1., 1., 0., 1., 1.,\n",
       "        0., 1., 1., 1., 0., 0., 0., 0., 0., 0., 0., 1., 1.], dtype=float32))"
      ]
     },
     "execution_count": 493,
     "metadata": {},
     "output_type": "execute_result"
    }
   ],
   "source": [
    "a = next(iter(train_generator_class))\n",
    "a"
   ]
  },
  {
   "cell_type": "code",
   "execution_count": 494,
   "metadata": {},
   "outputs": [],
   "source": [
    "encoder.trainable = False"
   ]
  },
  {
   "cell_type": "code",
   "execution_count": 495,
   "metadata": {},
   "outputs": [],
   "source": [
    "densenet = Sequential([\n",
    "    encoder,\n",
    "    Input(shape=(2048, 1)),\n",
    "    Dense(2048, activation='relu'),\n",
    "    BatchNormalization(axis=-1),\n",
    "    Dense(1024, activation='relu'),\n",
    "    BatchNormalization(axis=-1),\n",
    "    Dense(512, activation='relu'),\n",
    "    BatchNormalization(axis=-1),\n",
    "    Dense(256, activation='relu'),\n",
    "    BatchNormalization(axis=-1),\n",
    "    Dense(1, activation='sigmoid')\n",
    "])\n",
    "\n",
    "densenet.compile(optimizer='adam', loss='binary_crossentropy', metrics=['accuracy'])"
   ]
  },
  {
   "cell_type": "code",
   "execution_count": 496,
   "metadata": {},
   "outputs": [
    {
     "data": {
      "image/png": "[encoded data removed]",
      "text/plain": [
       "<Figure size 864x576 with 2 Axes>"
      ]
     },
     "metadata": {
      "needs_background": "light"
     },
     "output_type": "display_data"
    },
    {
     "name": "stdout",
     "output_type": "stream",
     "text": [
      "accuracy\n",
      "\ttraining         \t (min:    0.629, max:    0.749, cur:    0.746)\n",
      "\tvalidation       \t (min:    0.684, max:    0.745, cur:    0.720)\n",
      "Loss\n",
      "\ttraining         \t (min:    0.508, max:    0.640, cur:    0.509)\n",
      "\tvalidation       \t (min:    0.520, max:    0.591, cur:    0.530)\n",
      "352/352 [==============================] - 58s 166ms/step - loss: 0.5091 - accuracy: 0.7458 - val_loss: 0.5300 - val_accuracy: 0.7202\n"
     ]
    },
    {
     "data": {
      "text/plain": [
       "<keras.src.callbacks.History at 0x180836c72e0>"
      ]
     },
     "execution_count": 496,
     "metadata": {},
     "output_type": "execute_result"
    }
   ],
   "source": [
    "densenet.fit(train_generator_class,\n",
    "              epochs=20,\n",
    "              shuffle=True,\n",
    "              validation_data=val_generator_class,\n",
    "              callbacks=[PlotLossesKeras()])"
   ]
  },
  {
   "cell_type": "code",
   "execution_count": null,
   "metadata": {},
   "outputs": [],
   "source": []
  }
 ],
 "metadata": {
  "kernelspec": {
   "display_name": "base",
   "language": "python",
   "name": "python3"
  },
  "language_info": {
   "codemirror_mode": {
    "name": "ipython",
    "version": 3
   },
   "file_extension": ".py",
   "mimetype": "text/x-python",
   "name": "python",
   "nbconvert_exporter": "python",
   "pygments_lexer": "ipython3",
   "version": "3.8.5"
  }
 },
 "nbformat": 4,
 "nbformat_minor": 2
}
